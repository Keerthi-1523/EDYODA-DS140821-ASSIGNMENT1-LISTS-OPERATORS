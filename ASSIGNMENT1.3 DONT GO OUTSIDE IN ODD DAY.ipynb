{
 "cells": [
  {
   "cell_type": "markdown",
   "metadata": {},
   "source": [
    "# Write a Python program to count the number of even and odd numbers from a series of numbers."
   ]
  },
  {
   "cell_type": "code",
   "execution_count": 31,
   "metadata": {},
   "outputs": [
    {
     "name": "stdout",
     "output_type": "stream",
     "text": [
      "enter a list 1 2 3  4 5 6 7 8 9 10 12\n",
      "6 4\n"
     ]
    }
   ],
   "source": [
    "ce=co=0\n",
    "l=list(map(int,input(\"enter a list \").split()))\n",
    "#print(l)\n",
    "a=len(l)\n",
    "#print(a)\n",
    "for i in l:\n",
    "    if(i<=a):\n",
    "        if (l[i]%2==0):\n",
    "            ce=ce+1\n",
    "        else:\n",
    "            co=co+1\n",
    "print(ce,co)"
   ]
  },
  {
   "cell_type": "code",
   "execution_count": null,
   "metadata": {},
   "outputs": [],
   "source": [
    "\n"
   ]
  },
  {
   "cell_type": "code",
   "execution_count": null,
   "metadata": {},
   "outputs": [],
   "source": []
  },
  {
   "cell_type": "code",
   "execution_count": null,
   "metadata": {},
   "outputs": [],
   "source": []
  }
 ],
 "metadata": {
  "kernelspec": {
   "display_name": "Python 3",
   "language": "python",
   "name": "python3"
  },
  "language_info": {
   "codemirror_mode": {
    "name": "ipython",
    "version": 3
   },
   "file_extension": ".py",
   "mimetype": "text/x-python",
   "name": "python",
   "nbconvert_exporter": "python",
   "pygments_lexer": "ipython3",
   "version": "3.7.0"
  }
 },
 "nbformat": 4,
 "nbformat_minor": 2
}
